{
  "nbformat": 4,
  "nbformat_minor": 0,
  "metadata": {
    "colab": {
      "provenance": []
    },
    "kernelspec": {
      "name": "python3",
      "display_name": "Python 3"
    },
    "language_info": {
      "name": "python"
    }
  },
  "cells": [
    {
      "cell_type": "code",
      "execution_count": null,
      "metadata": {
        "colab": {
          "base_uri": "https://localhost:8080/"
        },
        "id": "g4iFkUt2accp",
        "outputId": "84177b75-a4b3-40c6-8804-49c22b929ae8"
      },
      "outputs": [
        {
          "output_type": "stream",
          "name": "stdout",
          "text": [
            "13.0\n"
          ]
        }
      ],
      "source": [
        "y = 13\n",
        "y = y / 2 * 4\n",
        "y = y // 2 # bölme yaptıktan sonra virgülden kurtarma işlemi\n",
        "print(y)\n"
      ]
    },
    {
      "cell_type": "code",
      "source": [
        "x = \"Ömer Cengiz 21 Şubat 1996 doğumludur. Balık burcudur.\"\n",
        "#ömer cengiz balık burcudur\n",
        "\n",
        "x = x[:11] + x[-16:]\n",
        "print(x)"
      ],
      "metadata": {
        "colab": {
          "base_uri": "https://localhost:8080/"
        },
        "id": "3Rbkp0eldR8a",
        "outputId": "24f6f439-afd1-4b3c-9bcf-22f99ad60d31"
      },
      "execution_count": 15,
      "outputs": [
        {
          "output_type": "stream",
          "name": "stdout",
          "text": [
            "Ömer Cengiz Balık burcudur.\n"
          ]
        }
      ]
    },
    {
      "cell_type": "code",
      "source": [
        "cost = 180\n",
        "tax = cost * 0.08\n",
        "tip = 0.1\n",
        "\n",
        "total = cost + tax + tip\n",
        "print(f\"The tax is {tax}€, making the total {total}€\") # f string"
      ],
      "metadata": {
        "id": "M8_SEcKedR4n",
        "colab": {
          "base_uri": "https://localhost:8080/"
        },
        "outputId": "4cf0c51d-8b88-4309-f6d2-d4a23992510e"
      },
      "execution_count": 20,
      "outputs": [
        {
          "output_type": "stream",
          "name": "stdout",
          "text": [
            "The tax is 14.4€, making the total 194.5€\n"
          ]
        }
      ]
    },
    {
      "cell_type": "code",
      "source": [
        "cost = float(input(\"Please enter the cost of the meal: \"))\n",
        "tax = cost * 0.08\n",
        "tip = 0.1\n",
        "\n",
        "total = cost + tax + tip\n",
        "print(f\"The tax is {tax}€, making the total {total}€\") # f string"
      ],
      "metadata": {
        "id": "u5O_aK5jdRlf",
        "colab": {
          "base_uri": "https://localhost:8080/"
        },
        "outputId": "4245d26b-8aaa-458d-aae5-4f1f5e29fe07"
      },
      "execution_count": 25,
      "outputs": [
        {
          "output_type": "stream",
          "name": "stdout",
          "text": [
            "Please enter the cost of the meal: 134\n",
            "The tax is 10.72€, making the total 144.82€\n"
          ]
        }
      ]
    },
    {
      "cell_type": "markdown",
      "source": [
        "#kullanıcı giriş uygulaması\n",
        "\n"
      ],
      "metadata": {
        "id": "mrWflWdfhyCi"
      }
    },
    {
      "cell_type": "code",
      "source": [
        "print(\"**************** ATM Giriş Paneli ****************\")\n",
        "\n",
        "username = \"Omer\"\n",
        "password = \"hello\"\n",
        "\n",
        "input_data_username = input(\"Lütfen kullanıcı adınızı giriniz: \")\n",
        "input_data_password = input(\"Lütfen sifrenizi giriniz: \")\n",
        "\n",
        "if username != input_data_username and password == input_data_password:\n",
        "  print(\"Kullanıcı adi hatali.\")\n",
        "elif username == input_data_username and password != input_data_password:\n",
        "  print(\"Parola hatali.\")\n",
        "elif username != input_data_username and password != input_data_password:\n",
        "  print(\"Kullanıcı adi ve parola hatali.\")\n",
        "else:\n",
        "  print(\"Sayfaya yönlendiriliyorsunuz.\")"
      ],
      "metadata": {
        "id": "He3b5p20hsoI"
      },
      "execution_count": null,
      "outputs": []
    },
    {
      "cell_type": "markdown",
      "source": [
        "#--------------------------------"
      ],
      "metadata": {
        "id": "Lf9jFaWGnMBM"
      }
    },
    {
      "cell_type": "code",
      "source": [
        "def function_operation(a,b):\n",
        "  return a * 2 + b\n",
        "\n",
        "def function_operation2(c,d):\n",
        "  # print(2**c*d) --> bu hata verir\n",
        "  return(2**c*d)\n",
        "\n",
        "print(function_operation(3,4) + function_operation2(9,2))"
      ],
      "metadata": {
        "colab": {
          "base_uri": "https://localhost:8080/"
        },
        "id": "QsGuRXjVnOY9",
        "outputId": "b96d9469-c0de-4804-a3fb-8cbe7ecb4785"
      },
      "execution_count": 27,
      "outputs": [
        {
          "output_type": "stream",
          "name": "stdout",
          "text": [
            "1056\n"
          ]
        }
      ]
    },
    {
      "cell_type": "code",
      "source": [],
      "metadata": {
        "id": "301brei7ngY4"
      },
      "execution_count": null,
      "outputs": []
    }
  ]
}
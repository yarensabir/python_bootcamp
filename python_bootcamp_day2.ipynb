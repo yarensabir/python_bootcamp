{
  "nbformat": 4,
  "nbformat_minor": 0,
  "metadata": {
    "colab": {
      "provenance": []
    },
    "kernelspec": {
      "name": "python3",
      "display_name": "Python 3"
    },
    "language_info": {
      "name": "python"
    }
  },
  "cells": [
    {
      "cell_type": "markdown",
      "source": [
        "# code complexity\n"
      ],
      "metadata": {
        "id": "2htwB_3_4rww"
      }
    },
    {
      "cell_type": "code",
      "source": [
        "def multiplication(x,y):\n",
        "  return x*y"
      ],
      "metadata": {
        "id": "ifCMPyR-4y1o"
      },
      "execution_count": 1,
      "outputs": []
    },
    {
      "cell_type": "code",
      "source": [
        "multiplication(10,15000)"
      ],
      "metadata": {
        "colab": {
          "base_uri": "https://localhost:8080/"
        },
        "id": "fBuQqx-75jV6",
        "outputId": "f264663f-3aea-4287-ac38-8b4cb3f55623"
      },
      "execution_count": 2,
      "outputs": [
        {
          "output_type": "execute_result",
          "data": {
            "text/plain": [
              "150000"
            ]
          },
          "metadata": {},
          "execution_count": 2
        }
      ]
    },
    {
      "cell_type": "code",
      "source": [
        "# Problem: 1'den n'e kadar tüm sayıların karesini alıp toplasın\n",
        "\n",
        "def square_sum(n):\n",
        "  sum_variable = 0\n",
        "  for x in range(1, n+1):\n",
        "    sum_variable += x ** 2\n",
        "  return sum_variable \n"
      ],
      "metadata": {
        "id": "7v6cawFL6gy7"
      },
      "execution_count": 3,
      "outputs": []
    },
    {
      "cell_type": "code",
      "source": [
        "square_sum(3)"
      ],
      "metadata": {
        "colab": {
          "base_uri": "https://localhost:8080/"
        },
        "id": "JG5QmLai7Csa",
        "outputId": "c3f1a386-02d1-4b92-a576-392b5b42fd42"
      },
      "execution_count": 4,
      "outputs": [
        {
          "output_type": "execute_result",
          "data": {
            "text/plain": [
              "14"
            ]
          },
          "metadata": {},
          "execution_count": 4
        }
      ]
    },
    {
      "cell_type": "code",
      "source": [
        "def square_sum2(n):\n",
        "  return n*(n+1)*(2*n + 1)//6"
      ],
      "metadata": {
        "id": "TY726ANQ7_mq"
      },
      "execution_count": 5,
      "outputs": []
    },
    {
      "cell_type": "code",
      "source": [
        "square_sum2(3)"
      ],
      "metadata": {
        "colab": {
          "base_uri": "https://localhost:8080/"
        },
        "id": "rDcwD_a68M1y",
        "outputId": "82ea2649-c0ed-484e-d5a3-d8d093405c95"
      },
      "execution_count": 6,
      "outputs": [
        {
          "output_type": "execute_result",
          "data": {
            "text/plain": [
              "14.0"
            ]
          },
          "metadata": {},
          "execution_count": 6
        }
      ]
    },
    {
      "cell_type": "code",
      "source": [
        "# fonksiyonun çalışma süresi %timeit ile ölçülebilir\n",
        "# colab ve jupyter notebook'da çalışıyor\n",
        "\n",
        "%timeit square_sum(5)"
      ],
      "metadata": {
        "colab": {
          "base_uri": "https://localhost:8080/"
        },
        "id": "z5DES0eD805L",
        "outputId": "777c586c-4f1e-467d-d3ec-cd16e4063f2b"
      },
      "execution_count": 7,
      "outputs": [
        {
          "output_type": "stream",
          "name": "stdout",
          "text": [
            "1.86 µs ± 296 ns per loop (mean ± std. dev. of 7 runs, 1000000 loops each)\n"
          ]
        }
      ]
    },
    {
      "cell_type": "code",
      "source": [
        "# big o analizi\n",
        "# asimtotik analiz\n",
        "# big o bir fonksiyonun büyümesini ifade eder\n",
        "# yazdığımız kodun en kötü durumda çalışma analizi\n",
        "# worst case\n"
      ],
      "metadata": {
        "id": "lsE-WSto9pk4"
      },
      "execution_count": null,
      "outputs": []
    },
    {
      "cell_type": "code",
      "source": [
        "f(x) = x\n",
        "f(x) = x ** 2"
      ],
      "metadata": {
        "id": "tEahrpMO9pYA"
      },
      "execution_count": null,
      "outputs": []
    },
    {
      "cell_type": "code",
      "source": [
        "# run time'ın değil big o'nun büyümesini düşüneceğiz"
      ],
      "metadata": {
        "id": "g-i-vlOl9o25"
      },
      "execution_count": null,
      "outputs": []
    },
    {
      "cell_type": "code",
      "source": [
        "# O(1) --> constant\n",
        "# omega, excellent, bestcase\n",
        "def constant_big_o(liste):\n",
        "  print(liste[0])\n",
        "\n",
        "# O(n) --> lineer\n",
        "# input size ile doğru orantılı\n",
        "def lineer_big_o(liste):\n",
        "  for value in liste:\n",
        "    print(value)\n",
        "\n",
        "# O(n^2) \n",
        "def find_dumplicate(liste):\n",
        "  for i in range(len(liste)):\n",
        "    for j in range(i+1, len(liste)):\n",
        "      if liste[i] == liste[j]:\n",
        "        return True\n",
        "  return False\n",
        "\n",
        "\n",
        "# O(n*3)\n",
        "# nested looplardan oluşan 3 for \n",
        "def cubic_big_o(liste):\n",
        "  for item_1 in liste:\n",
        "    for item_2 in liste:\n",
        "       for item_3 in liste:\n",
        "         print(item_1, item_2, item_3)"
      ],
      "metadata": {
        "id": "pH6zlEcyDkux"
      },
      "execution_count": null,
      "outputs": []
    },
    {
      "cell_type": "code",
      "source": [
        "def lineer_big_o(liste):\n",
        "  for value in liste:\n",
        "    print(value)\n",
        "  for value in liste:\n",
        "    print(value)\n",
        "\n",
        "# O(n) + O(n) -> O(2n)\n",
        "# O(2n) == O(n)\n",
        "\n",
        "# big o notasyonunda kat sayı yok, o yüzden 2 değeri ihmal edilebilir"
      ],
      "metadata": {
        "id": "7uAACclRD3aS"
      },
      "execution_count": null,
      "outputs": []
    }
  ]
}